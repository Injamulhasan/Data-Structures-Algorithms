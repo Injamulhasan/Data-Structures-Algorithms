{
  "nbformat": 4,
  "nbformat_minor": 0,
  "metadata": {
    "colab": {
      "name": "LAB08_18301257_12.ipynb",
      "provenance": [],
      "collapsed_sections": []
    },
    "kernelspec": {
      "name": "python3",
      "display_name": "Python 3"
    },
    "language_info": {
      "name": "python"
    }
  },
  "cells": [
    {
      "cell_type": "code",
      "execution_count": 13,
      "metadata": {
        "colab": {
          "base_uri": "https://localhost:8080/"
        },
        "id": "_rY_r6wtClH5",
        "outputId": "7006e939-b391-4c2e-f515-2c44a7aeab96"
      },
      "outputs": [
        {
          "output_type": "stream",
          "name": "stdout",
          "text": [
            "[1, 3, 4, 5, 6, 7, 8, 9]\n"
          ]
        }
      ],
      "source": [
        "#1\n",
        "\n",
        "def rec_sel_srt(arr, a, b):\n",
        "    idx = len(arr)\n",
        "    if a < idx-1:\n",
        "        minidx = a\n",
        "        rec_sel_srt(arr, a + 1, a + 2)\n",
        "        if b < idx:\n",
        "            if arr[b] < arr[minidx]:\n",
        "                minidx = b\n",
        "            rec_sel_srt(arr, a, b+1)\n",
        "        arr[a], arr[minidx] = arr[minidx], arr[a]\n",
        "\n",
        "\n",
        "arr = [ 7, 8, 3, 6, 9, 4, 5, 1]\n",
        "rec_sel_srt(arr, 0, 1)\n",
        "print(arr)"
      ]
    },
    {
      "cell_type": "code",
      "source": [
        "#2\n",
        "\n",
        "\n",
        "def insort(arr, idx):\n",
        "    if idx <= 1:\n",
        "        return -1\n",
        "    insort(arr, idx-1)\n",
        "    a = idx - 2\n",
        "    b = arr[idx - 1]\n",
        "    while (arr[a] > b and a >= 0):\n",
        "        arr[a+1] = arr[a]\n",
        "        a -= 1\n",
        "    arr[a+1] = b\n",
        "\n",
        "\n",
        "arr = [7, 8, 3, 6, 9, 4, 5, 1]\n",
        "idx = len(arr)\n",
        "insort(arr, idx)\n",
        "print(arr)"
      ],
      "metadata": {
        "id": "LDLS0eTNEG16",
        "colab": {
          "base_uri": "https://localhost:8080/"
        },
        "outputId": "c7d89e94-b672-45b0-d2f0-e30b3ed05748"
      },
      "execution_count": 14,
      "outputs": [
        {
          "output_type": "stream",
          "name": "stdout",
          "text": [
            "[1, 3, 4, 5, 6, 7, 8, 9]\n"
          ]
        }
      ]
    },
    {
      "cell_type": "code",
      "source": [
        "#3\n",
        "\n",
        "\n",
        "class Node:\n",
        "    def __init__(self, val):\n",
        "        self.val = val\n",
        "        self.next = None\n",
        "\n",
        "\n",
        "class myylist:\n",
        "    def __init__(self, i):\n",
        "        self.head = None\n",
        "        tail = None\n",
        "\n",
        "        for m in i:\n",
        "            nnode = Node(m)\n",
        "            if self.head == None:\n",
        "                self.head = nnode\n",
        "                tail = nnode\n",
        "\n",
        "            else:\n",
        "                tail.next = nnode\n",
        "                tail = nnode\n",
        "\n",
        "    def slist(self):\n",
        "        tem = self.head\n",
        "        if tem == None:\n",
        "            print(\"Empty\")\n",
        "        else:\n",
        "            while tem != None:\n",
        "                if tem.next == None:\n",
        "                    print(tem.val)\n",
        "                    break\n",
        "                else:\n",
        "                    print(tem.val, end=\" \")\n",
        "                    tem = tem.next\n",
        "\n",
        "    def bblsort(self):\n",
        "        head = self.head\n",
        "        tail = None\n",
        "        if self.head == None:\n",
        "            return\n",
        "        else:\n",
        "            while head != None:\n",
        "                tail = head.next\n",
        "                while tail != None:\n",
        "                    if tail.val < head.val:\n",
        "                        head.val, tail.val = tail.val, head.val\n",
        "                    tail = tail.next\n",
        "                head = head.next\n",
        "\n",
        "\n",
        "array = [7, 8, 3, 6, 9, 4, 5, 1] \n",
        "l= myylist(array)\n",
        "l.bblsort()\n",
        "l.slist()\n"
      ],
      "metadata": {
        "id": "L3MN5GMqEI4r",
        "colab": {
          "base_uri": "https://localhost:8080/"
        },
        "outputId": "f1aaefd4-be71-481c-cea7-0110f61bd691"
      },
      "execution_count": 16,
      "outputs": [
        {
          "output_type": "stream",
          "name": "stdout",
          "text": [
            "1 3 4 5 6 7 8 9\n"
          ]
        }
      ]
    },
    {
      "cell_type": "code",
      "source": [
        "#4\n",
        "\n",
        "\n",
        "class Node:\n",
        "    def __init__(self, val):\n",
        "        self.val = val\n",
        "        self.next = None\n",
        "\n",
        "\n",
        "class myylist:\n",
        "    def __init__(self, j):\n",
        "        self.head = None\n",
        "        tail = None\n",
        "\n",
        "        for i in j:\n",
        "            nnode = Node(i)\n",
        "            if self.head == None:\n",
        "                self.head = nnode\n",
        "                tail = nnode\n",
        "\n",
        "            else:\n",
        "                tail.next = nnode\n",
        "                tail = nnode\n",
        "\n",
        "    def slist(self):\n",
        "        tem = self.head\n",
        "        if tem == None:\n",
        "            print(\"Empty List\")\n",
        "        else:\n",
        "            while tem != None:\n",
        "                if tem.next == None:\n",
        "                    print(tem.val)\n",
        "                    break\n",
        "                else:\n",
        "                    print(tem.val, end=\" \")\n",
        "                    tem = tem.next\n",
        "\n",
        "    def selsort(self):\n",
        "        head = self.head\n",
        "        if self.head == None:\n",
        "            return\n",
        "        else:\n",
        "            while head.next != None:\n",
        "                tail = head\n",
        "                val = head.val\n",
        "                nextvalue = head.next\n",
        "                while nextvalue != None:\n",
        "                    if val > nextvalue.val:\n",
        "                        val = nextvalue.val\n",
        "                        tail = nextvalue\n",
        "                    nextvalue = nextvalue.next\n",
        "                head.val, tail.val = tail.val, head.val\n",
        "                head = head.next\n",
        "\n",
        "\n",
        "arr = [7, 8, 3, 6, 9, 4, 5, 1]\n",
        "l=myylist(arr)\n",
        "l.selsort()\n",
        "l.slist()\n"
      ],
      "metadata": {
        "id": "8NNjVdvqEJAh",
        "colab": {
          "base_uri": "https://localhost:8080/"
        },
        "outputId": "e3073f7e-cad2-4ac7-9f88-a8d07233049d"
      },
      "execution_count": 17,
      "outputs": [
        {
          "output_type": "stream",
          "name": "stdout",
          "text": [
            "1 3 4 5 6 7 8 9\n"
          ]
        }
      ]
    },
    {
      "cell_type": "code",
      "source": [
        "# task 5\n",
        "\n",
        "class Node:\n",
        "\n",
        "    def __init__(self, val, next, previous):\n",
        "        self.val = val\n",
        "        self.next = next\n",
        "        self.previous = previous\n",
        "\n",
        "class dl_list:\n",
        "\n",
        "    def __init__(self, arr):\n",
        "        self.head = Node(arr[0], None, None)\n",
        "        tail = self.head\n",
        "        for i in range(1, len(arr)):\n",
        "            nnode = Node(arr[i], None, tail)\n",
        "            tail.next = nnode\n",
        "            tail = nnode\n",
        "\n",
        "    def s_list(self):\n",
        "        if self.head.next == None:\n",
        "            print(\"Empty list\")\n",
        "        else:\n",
        "            head = self.head\n",
        "            while self.head != None:\n",
        "                if head.next == None:\n",
        "                    print(head.val)\n",
        "                    break\n",
        "                else:\n",
        "                    print(head.val, end=\" \")\n",
        "                    head = head.next\n",
        "\n",
        "    def insertsort(self):\n",
        "        head = self.head\n",
        "        if head == None:\n",
        "            return\n",
        "        else:\n",
        "            while head != None:\n",
        "                tail = head.next\n",
        "                while tail and tail.previous != None and tail.val < tail.previous.val:\n",
        "                    tail.val, tail.previous.val = tail.previous.val, tail.val\n",
        "                    tail = tail.previous\n",
        "                head = head.next\n",
        "\n",
        "\n",
        "arr = [7, 8, 3, 6, 9, 4, 5, 1]\n",
        "dl_list = dl_list(arr)\n",
        "dl_list.insertsort()\n",
        "dl_list.s_list()\n"
      ],
      "metadata": {
        "id": "vzUTy5c2EJRh",
        "colab": {
          "base_uri": "https://localhost:8080/"
        },
        "outputId": "a75a9725-3680-42f4-a97f-121b3cd373ce"
      },
      "execution_count": 19,
      "outputs": [
        {
          "output_type": "stream",
          "name": "stdout",
          "text": [
            "1 3 4 5 6 7 8 9\n"
          ]
        }
      ]
    },
    {
      "cell_type": "code",
      "source": [
        "#6\n",
        "\n",
        "def bsearch(arr, l, r, v):\n",
        "    if l > r:\n",
        "        return -1\n",
        "    else:\n",
        "        midval = int((l+r) // 2)\n",
        "        if arr[midval] < v:\n",
        "            return bsearch(arr, midval+1, r, v)\n",
        "        elif arr[midval] > v:\n",
        "            return bsearch(arr, l, midval-1, v)\n",
        "        else:\n",
        "            return midval\n",
        "\n",
        "\n",
        "arr = [7, 8, 3, 6, 9, 4]\n",
        "l = 0\n",
        "r = len(arr)\n",
        "v = 6\n",
        "print(bsearch(arr, l, r, v))\n"
      ],
      "metadata": {
        "id": "yw2oL_kwEJZB",
        "colab": {
          "base_uri": "https://localhost:8080/"
        },
        "outputId": "428a8c32-42f8-43a7-8a9f-bf22768522ec"
      },
      "execution_count": 22,
      "outputs": [
        {
          "output_type": "stream",
          "name": "stdout",
          "text": [
            "3\n"
          ]
        }
      ]
    },
    {
      "cell_type": "code",
      "source": [
        "#7\n",
        "\n",
        "def fib(n):\n",
        "    if n == 0 or n == 1:\n",
        "        return n\n",
        "    else:\n",
        "        if arr[n] == -1:\n",
        "            arr[n] = fib(n-1) + fib(n-2)\n",
        "        return arr[n]\n",
        "\n",
        "arr = [-1]*99\n",
        "fibonacci = fib(8)\n",
        "print(fibonacci) \n"
      ],
      "metadata": {
        "id": "vgamEE2AEJgB",
        "colab": {
          "base_uri": "https://localhost:8080/"
        },
        "outputId": "cb3f3f04-1ef0-4fbc-f3cb-163397525a4e"
      },
      "execution_count": 23,
      "outputs": [
        {
          "output_type": "stream",
          "name": "stdout",
          "text": [
            "21\n"
          ]
        }
      ]
    }
  ]
}