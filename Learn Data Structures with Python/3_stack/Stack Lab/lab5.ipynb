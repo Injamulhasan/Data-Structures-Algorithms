{
  "nbformat": 4,
  "nbformat_minor": 0,
  "metadata": {
    "colab": {
      "name": "lab5.ipynb",
      "provenance": []
    },
    "kernelspec": {
      "name": "python3",
      "display_name": "Python 3"
    },
    "language_info": {
      "name": "python"
    }
  },
  "cells": [
    {
      "cell_type": "code",
      "source": [
        "opening = [\"[\",'{',\"(\"]\n",
        "closing = [\"]\",\"}\",\")\"]\n",
        "stack = []\n",
        "idx = []\n",
        "\n",
        "def paranthesis_balancing(string):\n",
        "    k = 0\n",
        "    expression = True\n",
        "    \n",
        "    for i in range(0,len(string)):\n",
        "        if string[i] in opening or string[i] in closing:\n",
        "            if string[i] in opening:\n",
        "                stack.append(string[i])\n",
        "                idx.append(i+1)\n",
        "            else:\n",
        "                if len(stack) == 0 and string[i] in closing:\n",
        "                    k = string[i]\n",
        "                    idx.append(i+1)\n",
        "                    expression = False\n",
        "                    break\n",
        "\n",
        "                k = stack.pop()\n",
        "                expression = bracket_checking(k,string[i])\n",
        "                if expression == True:\n",
        "                    idx.pop()\n",
        "    \n",
        "    if expression is True:\n",
        "        print(\"This expression is correct.\")\n",
        "                \n",
        "    else:\n",
        "        if len(stack) != 0:\n",
        "            print('This expression is NOT correct.')\n",
        "            print(\"Error at character # {0}. '{1}'- not closed.\".format(idx[-1],k))       \n",
        "        else:\n",
        "            if expression is False: \n",
        "                print('This expression is NOT correct.')\n",
        "                print(\"Error at character # {0}. '{1}'- not opened.\".format(idx[0],k))\n",
        "\n",
        "def bracket_checking(a,b):\n",
        "    if a == \"(\" and b == \")\":\n",
        "        return True\n",
        "    elif a == \"{\" and b == \"}\":\n",
        "        return True\n",
        "    elif a == \"[\" and b ==\"]\":\n",
        "        return True\n",
        "    else:\n",
        "        return False\n",
        "\n",
        "string = input()\n",
        "paranthesis_balancing(string)"
      ],
      "metadata": {
        "colab": {
          "base_uri": "https://localhost:8080/"
        },
        "id": "un28xmott41K",
        "outputId": "f30c813d-b0d9-4185-c4bb-cf1d9c3d3e62"
      },
      "execution_count": 10,
      "outputs": [
        {
          "output_type": "stream",
          "name": "stdout",
          "text": [
            "1+2*[3*3+{4–5(6(7/8/9)+10)}–11+(12*8)/{13+13}]+14\n",
            "This expression is correct.\n"
          ]
        }
      ]
    },
    {
      "cell_type": "code",
      "execution_count": 13,
      "metadata": {
        "id": "WSjdJiw9oeAo",
        "colab": {
          "base_uri": "https://localhost:8080/"
        },
        "outputId": "37ee4ba9-eee4-4619-ff35-0ea7b5e01e1f"
      },
      "outputs": [
        {
          "output_type": "stream",
          "name": "stdout",
          "text": [
            "1+2]*[3*3+{4–5(6(7/8/9)+10)–11+(12*8)]+14\n",
            "This expression is NOT correct.\n",
            "Error at character # 4. ']'- not opened.\n"
          ]
        }
      ],
      "source": [
        "class Node:\n",
        "    def __init__(self,data):\n",
        "        self.data = data\n",
        "        self.next = None\n",
        "\n",
        "class linkedlist:\n",
        "    def __init__(self):\n",
        "        self.head = None\n",
        "    def push(self,element):\n",
        "        if self.head == None:\n",
        "            self.head = Node(element)\n",
        "        else:\n",
        "            new = self.head\n",
        "            while new.next != None:\n",
        "                new = new.next\n",
        "            new.next = Node(element)\n",
        "\n",
        "    def pop(self):\n",
        "        global list_status\n",
        "        global available\n",
        "        if self.head == None:\n",
        "            list_status = \"Empty\"\n",
        "            available = None\n",
        "        else:\n",
        "            if self.head.next == None:\n",
        "                available = self.head.data\n",
        "                self.head = None\n",
        "            else:\n",
        "                new = self.head\n",
        "                while new.next.next is not None:\n",
        "                    new = new.next\n",
        "                available = new.next.data\n",
        "                new.next = None\n",
        "\n",
        "opening = [\"[\",'{',\"(\"]\n",
        "closing = [\"]\",\"}\",\")\"]\n",
        "\n",
        "def bracket_checking(a,b):\n",
        "    if a == \"(\" and b == \")\":\n",
        "        return True\n",
        "    elif a == \"{\" and b == \"}\":\n",
        "        return True\n",
        "    elif a == \"[\" and b == \"]\":\n",
        "        return True\n",
        "    else:\n",
        "        return False\n",
        "\n",
        "check = linkedlist()\n",
        "string = input()\n",
        "expression = False\n",
        "idx = []\n",
        "k = 1\n",
        "x = 0\n",
        "y = \"\"\n",
        "\n",
        "for i in string:\n",
        "    if i in opening:\n",
        "        check.push(i)\n",
        "        idx.append(k)\n",
        "    if i in closing:\n",
        "        check.pop()\n",
        "        if available == None:\n",
        "            expression = False\n",
        "            x = k\n",
        "            y = i\n",
        "            break\n",
        "        else:\n",
        "            expression = bracket_checking(available,i)\n",
        "            if expression == True:\n",
        "                idx.pop()\n",
        "            else:\n",
        "                x = idx\n",
        "                y = available\n",
        "    k = k+1\n",
        "\n",
        "if expression is True:\n",
        "    print('This expression is correct.')\n",
        "else:\n",
        "    if isinstance(x,list):        #The isinstance() function returns True if the specified object is of the specified type, otherwise False\n",
        "        print('This expression is NOT correct.')\n",
        "        print(\"Error at character # {0}. '{1}'- not closed.\".format(x[-1], y))\n",
        "    else:\n",
        "        print('This expression is NOT correct.')\n",
        "        print(\"Error at character # {0}. '{1}'- not opened.\".format(x, y))"
      ]
    }
  ]
}