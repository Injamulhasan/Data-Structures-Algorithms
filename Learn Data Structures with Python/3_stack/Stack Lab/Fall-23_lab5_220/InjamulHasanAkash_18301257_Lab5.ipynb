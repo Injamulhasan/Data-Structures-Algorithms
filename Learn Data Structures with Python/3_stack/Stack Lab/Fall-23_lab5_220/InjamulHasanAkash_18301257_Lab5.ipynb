{
  "nbformat": 4,
  "nbformat_minor": 0,
  "metadata": {
    "colab": {
      "provenance": []
    },
    "kernelspec": {
      "name": "python3",
      "display_name": "Python 3"
    },
    "language_info": {
      "name": "python"
    }
  },
  "cells": [
    {
      "cell_type": "code",
      "execution_count": 1,
      "metadata": {
        "colab": {
          "base_uri": "https://localhost:8080/"
        },
        "id": "XT7pSJzy13XO",
        "outputId": "8c6ee851-03ac-4283-f916-5f18b9e1718a"
      },
      "outputs": [
        {
          "output_type": "stream",
          "name": "stdout",
          "text": [
            "['[', None, None, None, None, None, None, None, None, None, None, None, None, None, None, None, None, None, None, None]\n",
            "[4, None, None, None, None, None, None, None, None, None, None, None, None, None, None, None, None, None, None, None]\n",
            "['[', '{', None, None, None, None, None, None, None, None, None, None, None, None, None, None, None, None, None, None]\n",
            "[4, 9, None, None, None, None, None, None, None, None, None, None, None, None, None, None, None, None, None, None]\n",
            "['[', '{', '(', None, None, None, None, None, None, None, None, None, None, None, None, None, None, None, None, None]\n",
            "[4, 9, 13, None, None, None, None, None, None, None, None, None, None, None, None, None, None, None, None, None]\n",
            "['[', '{', '(', '(', None, None, None, None, None, None, None, None, None, None, None, None, None, None, None, None]\n",
            "[4, 9, 13, 15, None, None, None, None, None, None, None, None, None, None, None, None, None, None, None, None]\n",
            "['[', '{', '(', None, None, None, None, None, None, None, None, None, None, None, None, None, None, None, None, None]\n",
            "[4, 9, 30, None, None, None, None, None, None, None, None, None, None, None, None, None, None, None, None, None]\n",
            "This expression is NOT correct.\n",
            "Error at character # 10. '{'- not closed.\n"
          ]
        }
      ],
      "source": [
        "# in this lab we will implement a Stack using array and linked list\n",
        "class Stack:\n",
        "    def __init__(self):\n",
        "      # initialize with necessary instance attributes\n",
        "      self.len=20\n",
        "      #self.len=capacity\n",
        "      self.stack=[None]*self.len\n",
        "      self.current_idx=0\n",
        "\n",
        "    def is_empty(self):\n",
        "    # return true if the stack is empty, false otherwise\n",
        "\n",
        "      if self.current_idx==0:\n",
        "        return True\n",
        "      else:\n",
        "        return False\n",
        "\n",
        "      print(self.stack)\n",
        "\n",
        "    def push(self, value):\n",
        "        # insert the value in the stack\n",
        "        if self.current_idx<self.len:\n",
        "\n",
        "          self.stack[self.current_idx]=value\n",
        "          self.current_idx+=1\n",
        "        else:\n",
        "          print(\"Stack Overflow Exception for \",value)\n",
        "        print(self.stack)\n",
        "        \n",
        "        \n",
        "    def pop(self):\n",
        "\n",
        "        # remove the most recently inserted element in the stack\n",
        "        # return the element\n",
        "\n",
        "        if self.current_idx==0:\n",
        "          return \"Stack Underflow Exception\"\n",
        "\n",
        "        else:\n",
        "          self.current_idx-=1\n",
        "          temp=self.stack[self.current_idx]\n",
        "          self.stack[self.current_idx]=None\n",
        "          #did a double decrement ***| self.current_idx-=1 |***  \n",
        "          return temp\n",
        "\n",
        "        print(self.stack)\n",
        "\n",
        "    def top(self):\n",
        "\n",
        "        # show the most recently inserted element in the stack\n",
        "        if self.current_idx==0:\n",
        "          return \"Stack Underflow Exception\"\n",
        "        else:\n",
        "          temp=self.stack[self.current_idx-1]\n",
        "          return temp\n",
        "\n",
        "        print(self.stack)\n",
        "\n",
        "\n",
        "    def is_full(self):\n",
        "      if self.current_idx==self.len:\n",
        "        return True\n",
        "      else:\n",
        "        return \"Stack Underflow Exception\"\n",
        "      print(self.stack)\n",
        "\n",
        "stack_1 = Stack()\n",
        "stack_2 = Stack()\n",
        "        \n",
        "parenthesis = [\"()\", \"[]\", \"{}\"]\n",
        "test = \"1+2*[3*3+{4–5(6(7/8/9)+10)–11+(12*8)]+14\"\n",
        "flag = True\n",
        "count = 0\n",
        "\n",
        "for i in range(len(test)):\n",
        "    count += 1\n",
        "    if test[i] == \"(\" or test[i]==\"[\" or test[i]==\"{\":\n",
        "        stack_1.push(test[i])\n",
        "        stack_2.push(i)\n",
        "\n",
        "    elif test[i] ==  \")\" or test[i]==\"]\" or test[i]==\"}\":\n",
        "        if stack_1.is_empty() == True:\n",
        "            flag = False\n",
        "            break\n",
        "        else:\n",
        "            res = stack_1.pop()\n",
        "            \n",
        "            temp = res + test[i]\n",
        "            if temp not in parenthesis:\n",
        "                flag = False\n",
        "                break\n",
        "            res2 = stack_2.pop()\n",
        "\n",
        "\n",
        "if stack_1.is_empty() == True and flag == True:\n",
        "    print(\"This expression is correct.\")\n",
        "else:\n",
        "    print(\"This expression is NOT correct.\")\n",
        "    if stack_1.is_empty() == True:\n",
        "        print(f\"Error at character # {count}. '{test[i]}'- not opened.\")\n",
        "    else:\n",
        "        print(f\"Error at character # {stack_2.pop()+1}. '{res}'- not closed.\")\n",
        "\n",
        "\n",
        "\n",
        "     "
      ]
    },
    {
      "cell_type": "code",
      "source": [
        "#Driver code \n",
        "st = Stack()\n",
        "print(st.is_empty())  # should return True\n",
        "print(st.pop())  # this should return uderflow execption\n",
        "st.push(3)\n",
        "st.push(5)\n",
        "st.push(7)\n",
        "st.push(9)\n",
        "print(st.is_full())  #should return True\n",
        "print(st.pop())\n",
        "st.push(10) \n",
        "st.push(10) # this should return overflow execption\n",
        "st.push(10)"
      ],
      "metadata": {
        "colab": {
          "base_uri": "https://localhost:8080/"
        },
        "id": "XKX96zDR2AqM",
        "outputId": "ac62b798-97c0-4090-edba-729e586061dc"
      },
      "execution_count": 2,
      "outputs": [
        {
          "output_type": "stream",
          "name": "stdout",
          "text": [
            "True\n",
            "Stack Underflow Exception\n",
            "[3, None, None, None, None, None, None, None, None, None, None, None, None, None, None, None, None, None, None, None]\n",
            "[3, 5, None, None, None, None, None, None, None, None, None, None, None, None, None, None, None, None, None, None]\n",
            "[3, 5, 7, None, None, None, None, None, None, None, None, None, None, None, None, None, None, None, None, None]\n",
            "[3, 5, 7, 9, None, None, None, None, None, None, None, None, None, None, None, None, None, None, None, None]\n",
            "Stack Underflow Exception\n",
            "9\n",
            "[3, 5, 7, 10, None, None, None, None, None, None, None, None, None, None, None, None, None, None, None, None]\n",
            "[3, 5, 7, 10, 10, None, None, None, None, None, None, None, None, None, None, None, None, None, None, None]\n",
            "[3, 5, 7, 10, 10, 10, None, None, None, None, None, None, None, None, None, None, None, None, None, None]\n"
          ]
        }
      ]
    }
  ]
}