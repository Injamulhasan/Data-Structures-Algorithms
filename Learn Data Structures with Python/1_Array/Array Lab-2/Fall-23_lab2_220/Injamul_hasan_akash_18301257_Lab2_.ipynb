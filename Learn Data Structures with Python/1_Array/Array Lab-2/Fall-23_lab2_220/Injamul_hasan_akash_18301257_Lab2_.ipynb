{
  "nbformat": 4,
  "nbformat_minor": 0,
  "metadata": {
    "colab": {
      "provenance": []
    },
    "kernelspec": {
      "name": "python3",
      "display_name": "Python 3"
    },
    "language_info": {
      "name": "python"
    }
  },
  "cells": [
    {
      "cell_type": "code",
      "execution_count": 32,
      "metadata": {
        "colab": {
          "base_uri": "https://localhost:8080/"
        },
        "id": "OnwQdDuuiVvB",
        "outputId": "c4f587a5-98b5-4b7a-9a57-d847ded7ddfe"
      },
      "outputs": [
        {
          "output_type": "stream",
          "name": "stdout",
          "text": [
            "Cap Index0 : 2\n",
            "Upper case0 : R\n",
            "Start Index0 : 2\n",
            "Cap Index1 : 5\n",
            "Upper case1 : L\n",
            "Start Index1 : 5\n",
            "2D array :  [['g', 'i', 'R', 't', 'f', 'e', 'l', '2', 't', 'h'], ['r', 'i', 'g', 'h', 't', 'L', 'e', 'f', 't', '2']]\n"
          ]
        }
      ],
      "source": [
        "in1= \"giRtfel2th\"          #str(input(\"1st input : \"))\n",
        "in2= \"rightLeft2\"          #str(input(\"2nd input : \"))\n",
        "\n",
        "#array declare\n",
        "\n",
        "if len(in1) and len(in2)<=10:\n",
        "  arr=[[\"\"]*len(in1),[\"\"]*len(in2)]\n",
        "\n",
        "#for string 1 \n",
        "\n",
        "  for i in range(0,len(arr)-1):\n",
        "    for j in range(len(arr[i])):\n",
        "      arr[i][j]=in1[j]\n",
        "      if 65<= ord(arr[i][j]) <=90:\n",
        "        idx0=j\n",
        "        n=j\n",
        "        sz1=len(in1)    #capital index0\n",
        "        if i ==0:\n",
        "          upper=arr[i][idx0] #upper case0\n",
        "          stidx0=idx0\n",
        "          print(\"Cap Index0 :\" ,idx0)\n",
        "          print(\"Upper case0 :\" ,upper)\n",
        "          print(\"Start Index0 :\" ,stidx0)\n",
        "\n",
        "#for string 2\n",
        "\n",
        "  for i in range(1,len(arr)):     \n",
        "    for j in range(len(arr[i])):\n",
        "      arr[i][j]=in2[j]\n",
        "      if 65<= ord(arr[i][j]) <=90:\n",
        "        idx1=j\n",
        "        m=j\n",
        "        sz2=len(in2)   #capital index1\n",
        "        if i!=0:\n",
        "          upper1=arr[i][idx1] #upper case1\n",
        "          stidx1=idx1 \n",
        "          print(\"Cap Index1 :\" ,idx1)\n",
        "          print(\"Upper case1 :\" ,upper1)\n",
        "          print(\"Start Index1 :\" ,stidx1)\n",
        "\n",
        "  print(\"2D array : \",arr)\n",
        "\n",
        "else:\n",
        "  print(\"Invalid Input Size\")\n",
        "  \n",
        "\n",
        "\n"
      ]
    },
    {
      "cell_type": "code",
      "source": [],
      "metadata": {
        "id": "jzy26WKq5PHf"
      },
      "execution_count": null,
      "outputs": []
    },
    {
      "cell_type": "code",
      "source": [
        "l=1\n",
        "while l==1:\n",
        "  in1=input('Enter any letter except q/Q :')\n",
        "  if in1=='Q' or in1=='q':\n",
        "    print(stidx0)\n",
        "    print(idx0)\n",
        "    print(stidx1)\n",
        "    print(idx1)\n",
        "    break\n",
        "  elif in1!=\"Q\" or in1!=\"q\":\n",
        "    l=1\n",
        "    k=(n+sz1) % len(in1)\n",
        "    for j in range (sz1):\n",
        "      print (arr[0][k], end=\"\")\n",
        "      k=(k-1) % len(in1)\n",
        "    n-=1\n",
        "    print()\n",
        "      \n",
        "    c=(m+sz2) % len(in2)\n",
        "    for h in range (sz2):\n",
        "      print (arr[1][c], end=\"\")\n",
        "      c=(c+1)%len (in1)\n",
        "    m+=1\n",
        "\n",
        "print()\n",
        "\n",
        "  "
      ],
      "metadata": {
        "colab": {
          "base_uri": "https://localhost:8080/"
        },
        "id": "mf9mXtew5VaN",
        "outputId": "9c9bf14b-242b-493d-df22-599cf20da75c"
      },
      "execution_count": 33,
      "outputs": [
        {
          "output_type": "stream",
          "name": "stdout",
          "text": [
            "Enter any letter except q/Q :giRtfel2th\n",
            "Right2left\n",
            "Left2rightEnter any letter except q/Q :q\n",
            "2\n",
            "2\n",
            "5\n",
            "5\n",
            "\n"
          ]
        }
      ]
    }
  ]
}