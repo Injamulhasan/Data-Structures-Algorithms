{
  "nbformat": 4,
  "nbformat_minor": 0,
  "metadata": {
    "colab": {
      "provenance": []
    },
    "kernelspec": {
      "name": "python3",
      "display_name": "Python 3"
    },
    "language_info": {
      "name": "python"
    }
  },
  "cells": [
    {
      "cell_type": "code",
      "execution_count": 2,
      "metadata": {
        "colab": {
          "base_uri": "https://localhost:8080/"
        },
        "id": "S2hkTof43Z6e",
        "outputId": "cd0d2fb0-9378-4ef9-9552-841fcfc6f85a"
      },
      "outputs": [
        {
          "output_type": "stream",
          "name": "stdout",
          "text": [
            "Enter 1st Input : giRtfel2th\n",
            "Enter 2nd InputLeft2right\n",
            "Cap Index0 : 2\n",
            "Start Index0 : R\n",
            "Cap Index1 : 9\n",
            "Start Index1 : R\n",
            "Enter any letter except q/Q :q\n",
            "R\n",
            "2\n",
            "R\n",
            "9\n"
          ]
        }
      ],
      "source": [
        "def TOWD():\n",
        "\n",
        "  in1= input(\"Enter 1st Input : \")      #str(input(\"1st input : \"))\n",
        "  in2= input(\"Enter 2nd Input\")         #str(input(\"2nd input : \"))\n",
        "\n",
        "#array declare\n",
        "\n",
        "  if len(in1) and len(in2)<=10:\n",
        "\n",
        "    arr=[[\"\"]*len(in1),[\"\"]*len(in2)]\n",
        "#for string 1 \n",
        "    for i in range(len(in1)):\n",
        "      arr[0][i]=in1[i]\n",
        "    for j in range(len(in2)):\n",
        "      arr[1][j]=in1[j]\n",
        "    for k in range(len(arr[0])):\n",
        "        if 65<=ord(arr[0][k])<=90: \n",
        "          stidx0=arr[0][k]  \n",
        "          idx0=k\n",
        "          n=k  \n",
        "          sz1=len(in1) \n",
        "          print(\"Cap Index0 :\" ,idx0)\n",
        "          print(\"Start Index0 :\" ,stidx0)\n",
        "\n",
        "#for string 2\n",
        "\n",
        "    for i in range(len(arr[1])):     \n",
        "        if 65<= ord(arr[1][i])<=90:\n",
        "          stidx1=arr[1][i]\n",
        "          idx1=j\n",
        "          m=j\n",
        "          sz2=len(in2)    #capital index1\n",
        "          print(\"Cap Index1 :\" ,idx1)\n",
        "          print(\"Start Index1 :\",stidx1)\n",
        "\n",
        "  l=1\n",
        "  while l==1:\n",
        "    in1=input('Enter any letter except q/Q :')\n",
        "    if in1=='Q' or in1=='q':\n",
        "      print(stidx0)\n",
        "      print(idx0)\n",
        "      print(stidx1)\n",
        "      print(idx1)\n",
        "      break\n",
        "\n",
        "    elif in1!=\"Q\" or in1!=\"q\":\n",
        "      l=1\n",
        "      k=(n+sz1) % len(in1)\n",
        "      for j in range (sz1):\n",
        "        print (arr[0][k], end=\"\")\n",
        "        k=(k-1) % len(in1)\n",
        "      n-=1\n",
        "      print()\n",
        "      \n",
        "      c=(m+sz2 ) % len(in2)\n",
        "      for h in range (sz2):\n",
        "        print (arr[1][c], end=\"\")\n",
        "        c=(c+1)%len (in1)\n",
        "      m+=1\n",
        "      print()\n",
        "\n",
        "  else:\n",
        "    print(\"Invalid Input Size\")\n",
        "\n",
        "TOWD()\n",
        "  \n",
        "\n",
        "\n"
      ]
    },
    {
      "cell_type": "code",
      "source": [
        "in1= \"giRtfel2th\"          #str(input(\"1st input : \"))\n",
        "in2= \"rightLeft2\"          #str(input(\"2nd input : \"))\n",
        "\n",
        "#array declare\n",
        "\n",
        "if len(in1) and len(in2)<=10:\n",
        "  arr=[[\"\"]*len(in1),[\"\"]*len(in2)]\n",
        "\n",
        "#for string 1 \n",
        "\n",
        "  for i in range(0,len(arr)-1):\n",
        "    for j in range(len(arr[i])):\n",
        "      arr[i][j]=in1[j]\n",
        "      if 65<= ord(arr[i][j]) <=90:\n",
        "        idx0=j\n",
        "        n=j\n",
        "        sz1=len(in1)    #capital index0\n",
        "        if i ==0:\n",
        "          upper=arr[i][idx0] #upper case0\n",
        "          stidx0=idx0\n",
        "          print(\"Cap Index0 :\" ,idx0)\n",
        "          print(\"Upper case0 :\" ,upper)\n",
        "          print(\"Start Index0 :\" ,stidx0)\n",
        "\n",
        "#for string 2\n",
        "\n",
        "  for i in range(1,len(arr)):     \n",
        "    for j in range(len(arr[i])):\n",
        "      arr[i][j]=in2[j]\n",
        "      if 65<= ord(arr[i][j]) <=90:\n",
        "        idx1=j\n",
        "        m=j\n",
        "        sz2=len(in2)   #capital index1\n",
        "        if i!=0:\n",
        "          upper1=arr[i][idx1] #upper case1\n",
        "          stidx1=idx1 \n",
        "          print(\"Cap Index1 :\" ,idx1)\n",
        "          print(\"Upper case1 :\" ,upper1)\n",
        "          print(\"Start Index1 :\" ,stidx1)\n",
        "\n",
        "  print(\"2D array : \",arr)\n",
        "\n",
        "else:\n",
        "  print(\"Invalid Input Size\")\n",
        "  \n",
        "\n",
        "\n"
      ],
      "metadata": {
        "colab": {
          "base_uri": "https://localhost:8080/"
        },
        "id": "2KQYu4KTCoW-",
        "outputId": "706cac7f-e46e-45cd-8aea-2fa11d621657"
      },
      "execution_count": 3,
      "outputs": [
        {
          "output_type": "stream",
          "name": "stdout",
          "text": [
            "Cap Index0 : 2\n",
            "Upper case0 : R\n",
            "Start Index0 : 2\n",
            "Cap Index1 : 5\n",
            "Upper case1 : L\n",
            "Start Index1 : 5\n",
            "2D array :  [['g', 'i', 'R', 't', 'f', 'e', 'l', '2', 't', 'h'], ['r', 'i', 'g', 'h', 't', 'L', 'e', 'f', 't', '2']]\n"
          ]
        }
      ]
    },
    {
      "cell_type": "code",
      "source": [
        "l=1\n",
        "while l==1:\n",
        "  in1=input('Enter any letter except q/Q :')\n",
        "  if in1=='Q' or in1=='q':\n",
        "    print(stidx0)\n",
        "    print(idx0)\n",
        "    print(stidx1)\n",
        "    print(idx1)\n",
        "    break\n",
        "  elif in1!=\"Q\" or in1!=\"q\":\n",
        "    l=1\n",
        "    k=(n+sz1) % len(in1)\n",
        "    for j in range (sz1):\n",
        "      print (arr[0][k], end=\"\")\n",
        "      k=(k-1) % len(in1)\n",
        "    n-=1\n",
        "    print()\n",
        "      \n",
        "    c=(m+sz2) % len(in2)\n",
        "    for h in range (sz2):\n",
        "      print (arr[1][c], end=\"\")\n",
        "      c=(c+1)%len (in1)\n",
        "    m+=1\n",
        "\n",
        "print()\n",
        " "
      ],
      "metadata": {
        "colab": {
          "base_uri": "https://localhost:8080/"
        },
        "id": "S-NOvoCNCoeB",
        "outputId": "c7c79c73-cb6c-4f9d-ac22-b7ba6730ccec"
      },
      "execution_count": 4,
      "outputs": [
        {
          "output_type": "stream",
          "name": "stdout",
          "text": [
            "Enter any letter except q/Q :giRtfel2th\n",
            "Right2left\n",
            "Left2rightEnter any letter except q/Q :rightLeft2\n",
            "ight2leftR\n",
            "eft2rightLEnter any letter except q/Q :rightLeft2\n",
            "ght2leftRi\n",
            "ft2rightLeEnter any letter except q/Q :rightLeft2\n",
            "ht2leftRig\n",
            "t2rightLefEnter any letter except q/Q :rightLeft2\n",
            "t2leftRigh\n",
            "2rightLeftEnter any letter except q/Q :q\n",
            "2\n",
            "2\n",
            "5\n",
            "5\n",
            "\n"
          ]
        },
        {
          "output_type": "execute_result",
          "data": {
            "text/plain": [
              "([['g', 'i', 'R', 't', 'f', 'e', 'l', '2', 't', 'h'],\n",
              "  ['r', 'i', 'g', 'h', 't', 'L', 'e', 'f', 't', '2']],\n",
              " 2,\n",
              " 5)"
            ]
          },
          "metadata": {},
          "execution_count": 4
        }
      ]
    }
  ]
}