{
  "nbformat": 4,
  "nbformat_minor": 0,
  "metadata": {
    "colab": {
      "provenance": []
    },
    "kernelspec": {
      "name": "python3",
      "display_name": "Python 3"
    },
    "language_info": {
      "name": "python"
    }
  },
  "cells": [
    {
      "cell_type": "code",
      "execution_count": 1,
      "metadata": {
        "colab": {
          "base_uri": "https://localhost:8080/"
        },
        "id": "R6r2Na-AhLei",
        "outputId": "36f93780-1965-4850-b39b-62680a1da0c3"
      },
      "outputs": [
        {
          "output_type": "stream",
          "name": "stdout",
          "text": [
            "Looking in indexes: https://pypi.org/simple, https://us-python.pkg.dev/colab-wheels/public/simple/\n",
            "Collecting fhm-unittest\n",
            "  Downloading fhm_unittest-1.0.0-py3-none-any.whl (2.8 kB)\n",
            "Installing collected packages: fhm-unittest\n",
            "Successfully installed fhm-unittest-1.0.0\n",
            "Looking in indexes: https://pypi.org/simple, https://us-python.pkg.dev/colab-wheels/public/simple/\n",
            "Collecting fuzzywuzzy\n",
            "  Downloading fuzzywuzzy-0.18.0-py2.py3-none-any.whl (18 kB)\n",
            "Installing collected packages: fuzzywuzzy\n",
            "Successfully installed fuzzywuzzy-0.18.0\n"
          ]
        }
      ],
      "source": [
        "# You must run this cell to install dependency\n",
        "! pip3 install fhm-unittest\n",
        "! pip3 install fuzzywuzzy\n",
        "import fhm_unittest as unittest"
      ]
    },
    {
      "cell_type": "code",
      "source": [
        "# Test 01: Shift Left k cell\n",
        "def shift_left(source, k):\n",
        "  for j in range(k):\n",
        "    for i in range(len(source)-1): #####\n",
        "      source[i]=source[i+1]\n",
        "    source[len(source)-1]= 0\n",
        "  return source\n",
        "\n",
        "# Test 02: Rotate Left k cell\n",
        "def rotate_left(source, k):\n",
        "    for j in range(k):\n",
        "        tm=source[0]\n",
        "        for i in range(1,len(source)):\n",
        "            source[i-1]=source[i]\n",
        "        source[len(source)-1]=tm\n",
        "    return source\n",
        "\n",
        "\n",
        "# Test 03: Shift Right k cell\n",
        "def shift_right(source, k):\n",
        "    for i in range(k):\n",
        "        for j in range(len(source)-1,0,-1):\n",
        "            source[j]=source[j-1]\n",
        "        source[0]=0\n",
        "        \n",
        "    return source\n",
        "\n",
        "\n",
        "\n",
        "# Test 04: Rotate Right k cell\n",
        "def rotate_right(source, k):\n",
        "    for j in range(k):\n",
        "        tm=source[len(source)-1]\n",
        "        for i in range(len(source)-1,0,-1):\n",
        "            source[i]=source[i-1]\n",
        "        source[0]=tm\n",
        "    return source\n",
        "\n",
        "\n",
        "# Test 05: Remove an element from an array\n",
        "def remove(source, idx ,size):\n",
        "    for i in range(idx+1,size):\n",
        "        source[i-1]=source[i]\n",
        "    source[size-1]=0\n",
        "    return source\n",
        "\n",
        "\n",
        "\n",
        "# Test 06: Remove all occurrences of a particular element from an array\n",
        "def remove_all(source, size, element):\n",
        "    s_idx = len(source)\n",
        "    new = [0] * s_idx\n",
        "    x = 0\n",
        "    for i in source:\n",
        "        if i == element:\n",
        "            continue\n",
        "        else:\n",
        "            new[x] = i\n",
        "        x += 1\n",
        "        if x >= size:\n",
        "            break\n",
        "    source = new\n",
        "    return source\n",
        "\n",
        "\n",
        "# Test 07: Splitting an Array\n",
        "def split_array(a):\n",
        "    zero_list = [0]\n",
        "    empty_list = []\n",
        "    A_lentgh = len(a)\n",
        "    logic = None\n",
        "    for i in range(A_lentgh):\n",
        "        if i == 0:\n",
        "            zero_list[i] = a[i]\n",
        "            empty_list = a[i+1:(A_lentgh)]\n",
        "            if sum(zero_list) == sum(empty_list):\n",
        "                logic = True\n",
        "                break\n",
        "            else:\n",
        "                zero_list = []\n",
        "                logic = False\n",
        "        else:\n",
        "            zero_list = a[0:i+1]\n",
        "            empty_list = a[i + 1:(A_lentgh)]\n",
        "            if sum(zero_list) == sum(empty_list):\n",
        "                logic = True\n",
        "                break\n",
        "            else:\n",
        "                logic = False\n",
        "    return logic\n",
        "\n",
        "\n",
        "# Test 08: Max Bunch Count\n",
        "def max_bunch(a):\n",
        "    sum_list = []\n",
        "    first=a[0]\n",
        "    count = 0\n",
        "    for values in a:\n",
        "        if values == first:\n",
        "            count += 1\n",
        "        else:\n",
        "            first = values\n",
        "            count = 1\n",
        "        sum_list.append(count)\n",
        "        returnvalue=max(sum_list)\n",
        "    return returnvalue\n"
      ],
      "metadata": {
        "id": "JmRdcZmLiDZW"
      },
      "execution_count": 4,
      "outputs": []
    },
    {
      "cell_type": "code",
      "source": [
        "# This cell is the driver code\n",
        "# Run this cell after completion of above function.\n",
        "# You will see the status Accepted after completion if your code is correct.\n",
        "# If your function is wrong you will see wrong[correction percentage]\n",
        "# This is call unit testing if you are wondering the checking approach\n",
        "# No need to write or change any code here\n",
        "\n",
        "print(\"///  Test 01: Shift Left k cell  ///\")\n",
        "source = [10,20,30,40,50,60]\n",
        "returned_value = shift_left(source, 3) # This should return [40, 50, 60, 0, 0, 0]\n",
        "unittest.output_test(returned_value, [40, 50, 60, 0, 0, 0])\n",
        "\n",
        "\n",
        "print(\"///  Test 02: Rotate Left k cell  ///\")\n",
        "source = [10,20,30,40,50,60]\n",
        "returned_value = rotate_left(source, 3) # This should return [40, 50, 60, 10, 20, 30]\n",
        "unittest.output_test(returned_value, [40, 50, 60, 10, 20, 30])\n",
        "\n",
        "\n",
        "print(\"///  Test 03: Shift Right k cell  ///\")\n",
        "source = [10,20,30,40,50,60]\n",
        "returned_value = shift_right(source, 3) # This should return [0, 0, 0, 10, 20, 30]\n",
        "unittest.output_test(returned_value, [0, 0, 0, 10, 20, 30])\n",
        "\n",
        "\n",
        "print(\"///  Test 04: Rotate Right k cell  ///\")\n",
        "source = [10,20,30,40,50,60]\n",
        "returned_value = rotate_right(source, 3) # This should return [40, 50, 60, 10, 20, 30]\n",
        "unittest.output_test(returned_value, [40, 50, 60, 10, 20, 30])\n",
        "\n",
        "\n",
        "print(\"///  Test 05: Remove an element from an array  ///\")\n",
        "source = [10,20,30,40,50,0,0]\n",
        "returned_value = remove(source, 2 ,5) # This should return [10, 20, 40, 50, 0, 0, 0]\n",
        "unittest.output_test(returned_value, [10, 20, 40, 50, 0, 0, 0])\n",
        "\n",
        "\n",
        "print(\"///  Test 06: Remove all occurrences of a particular element from an array  ///\")\n",
        "source = [10,2,30,2,50,2,2,0,0]\n",
        "returned_value = remove_all(source,7, 2) # This should return [10, 30, 50, 0, 0, 0, 0, 0, 0]\n",
        "unittest.output_test(returned_value, [10, 30, 50, 0, 0, 0, 0, 0, 0])\n",
        "\n",
        "\n",
        "print(\"///  Test 07: Splitting an Array  ///\")\n",
        "test_1 = [1, 1, 1, 2, 1] # Here splitting is possible as summation of [1, 1, 1] = summation of [2,1]\n",
        "returned_value = split_array(test_1) # This should return True\n",
        "test_2 = [2, 1, 1, 2, 1] # Here splitting is not possible\n",
        "returned_value = split_array(test_2) # This should return False\n",
        "test_3 = [10, 3, 1, 2, 10] # Here splitting is possible as summation of [10, 3] = summation of [1,2,10]\n",
        "returned_value = split_array(test_3) # This should return True\n",
        "unittest.output_test(split_array(test_1), True)\n",
        "unittest.output_test(split_array(test_2), False)\n",
        "unittest.output_test(split_array(test_3), True)\n",
        "\n",
        "\n",
        "print(\"///  Test 08: Max Bunch Count  ///\")\n",
        "returned_value = max_bunch([1, 2, 2, 3, 4, 4, 4]) # This should return 3\n",
        "unittest.output_test(returned_value, 3)\n",
        "returned_value = max_bunch([1, 1, 2, 2, 1, 1, 1, 1]) # This should return 4\n",
        "unittest.output_test(returned_value, 4)\n"
      ],
      "metadata": {
        "id": "W40W5MgtiEad",
        "colab": {
          "base_uri": "https://localhost:8080/"
        },
        "outputId": "ecba4cbf-019b-4363-bc31-130738bdc2f4"
      },
      "execution_count": 5,
      "outputs": [
        {
          "output_type": "stream",
          "name": "stdout",
          "text": [
            "///  Test 01: Shift Left k cell  ///\n",
            "Accepted\n",
            "///  Test 02: Rotate Left k cell  ///\n",
            "Accepted\n",
            "///  Test 03: Shift Right k cell  ///\n",
            "Accepted\n",
            "///  Test 04: Rotate Right k cell  ///\n",
            "Accepted\n",
            "///  Test 05: Remove an element from an array  ///\n",
            "Accepted\n",
            "///  Test 06: Remove all occurrences of a particular element from an array  ///\n",
            "Accepted\n",
            "///  Test 07: Splitting an Array  ///\n",
            "Accepted\n",
            "Accepted\n",
            "Accepted\n",
            "///  Test 08: Max Bunch Count  ///\n",
            "Accepted\n",
            "Accepted\n"
          ]
        }
      ]
    },
    {
      "cell_type": "code",
      "source": [
        "#PART 2"
      ],
      "metadata": {
        "id": "2d3QjbPbZro4"
      },
      "execution_count": null,
      "outputs": []
    },
    {
      "cell_type": "code",
      "source": [
        "#1\n",
        "def Mean(arr):\n",
        "  sum=0\n",
        "  for i in arr:\n",
        "    sum+=i\n",
        "    find_mean=sum/len(arr)\n",
        "  return find_mean\n",
        "\n",
        "arr=[10, 8, 13, 9, 14, 25, -5, 20, 7, 7, 4]\n",
        "retrn=Mean(arr)\n",
        "print(retrn)"
      ],
      "metadata": {
        "colab": {
          "base_uri": "https://localhost:8080/"
        },
        "id": "Lpb7CLXkZBcx",
        "outputId": "54da4b4b-adb0-40d7-e66d-b5bd89815ae5"
      },
      "execution_count": 63,
      "outputs": [
        {
          "output_type": "stream",
          "name": "stdout",
          "text": [
            "10.181818181818182\n"
          ]
        }
      ]
    },
    {
      "cell_type": "code",
      "source": [
        "#2\n",
        "import math\n",
        "def Sd(arr):\n",
        "  sum=0\n",
        "  sun_of_sqr=0\n",
        "  for i in arr:\n",
        "    sum+=i\n",
        "  mean=Mean(arr)\n",
        "  n=len(arr)\n",
        "  for i in range(n):\n",
        "    value= arr[i]-mean\n",
        "    sqr=value**2\n",
        "    sun_of_sqr+=sqr\n",
        "  var=sun_of_sqr/(n-1)\n",
        "  rot=math.sqrt(var)\n",
        "  return rot\n",
        "arr=[10, 8, 13, 9, 14, 25, -5, 20, 7, 7, 4]\n",
        "retrn=Sd(arr)\n",
        "print(retrn)\n",
        "\n"
      ],
      "metadata": {
        "colab": {
          "base_uri": "https://localhost:8080/"
        },
        "id": "HFzOtq-sYUyf",
        "outputId": "3e4763c2-761e-4cd0-d35c-b613bf720274"
      },
      "execution_count": 62,
      "outputs": [
        {
          "output_type": "stream",
          "name": "stdout",
          "text": [
            "7.960127911260996\n"
          ]
        }
      ]
    },
    {
      "cell_type": "code",
      "source": [
        "#3\n",
        "def newArr(arr):\n",
        "  mean=Mean(arr)\n",
        "  new_arr=[0]*2\n",
        "  range1=mean + 1.5 * 7.96\n",
        "  range2=mean - 1.5 * 7.96\n",
        "  new_arr=[0]*2\n",
        "  x=0\n",
        "  for j in arr:\n",
        "    if j<range2:\n",
        "      new_arr[0]=arr[j]\n",
        "  x+=1\n",
        "  for i in arr:\n",
        "    if i>range1:\n",
        "      new_arr[x]=arr[j+1]\n",
        "  return new_arr\n",
        "\n",
        "arr=[10, 8, 13, 9, 14, 25, -5, 20, 7, 7, 4]\n",
        "retrn=newArr(arr)\n",
        "print(retrn)"
      ],
      "metadata": {
        "id": "v1aE1i5u0D_F",
        "colab": {
          "base_uri": "https://localhost:8080/"
        },
        "outputId": "8f46739f-0464-4663-8cb0-fa0225746963"
      },
      "execution_count": 61,
      "outputs": [
        {
          "output_type": "stream",
          "name": "stdout",
          "text": [
            "[-5, 25]\n"
          ]
        }
      ]
    }
  ]
}