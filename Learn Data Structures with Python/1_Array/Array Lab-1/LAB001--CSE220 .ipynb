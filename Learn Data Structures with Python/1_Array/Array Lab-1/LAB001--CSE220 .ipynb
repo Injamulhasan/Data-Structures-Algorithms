{
 "cells": [
  {
   "cell_type": "markdown",
   "id": "3fbc222b",
   "metadata": {},
   "source": [
    "# CSE220 ---- LAB001"
   ]
  },
  {
   "cell_type": "code",
   "execution_count": 19,
   "id": "facab233",
   "metadata": {},
   "outputs": [
    {
     "name": "stdout",
     "output_type": "stream",
     "text": [
      "[40, 50, 60, 0, 0, 0]\n"
     ]
    }
   ],
   "source": [
    "#1\n",
    "\n",
    "source=[10,20,30,40,50,60]\n",
    "size=len(source)\n",
    "def shiftleft(source,k):\n",
    "    for i in range(k):\n",
    "        for j in range(size-1):\n",
    "            source[j]=source[j+1]\n",
    "        source[size-1]=0\n",
    "k=3\n",
    "shiftleft(source,k)\n",
    "print(source)"
   ]
  },
  {
   "cell_type": "code",
   "execution_count": 22,
   "id": "38b29cc3",
   "metadata": {},
   "outputs": [
    {
     "name": "stdout",
     "output_type": "stream",
     "text": [
      "[40, 50, 60, 10, 20, 30]\n"
     ]
    }
   ],
   "source": [
    "#2\n",
    "\n",
    "source=[10,20,30,40,50,60]\n",
    "def rotateLeft(source,k):\n",
    "    \n",
    "    for i in range(0, k):\n",
    "            first = source[0]\n",
    "            for j in range(0,len(source)-1):\n",
    "                source[j] = source[j+1]\n",
    "            source[len(source)-1] = first\n",
    "k=3\n",
    "rotateLeft(source,k)\n",
    "print(source)"
   ]
  },
  {
   "cell_type": "code",
   "execution_count": 20,
   "id": "4236e26a",
   "metadata": {},
   "outputs": [
    {
     "name": "stdout",
     "output_type": "stream",
     "text": [
      "[0, 0, 0, 10, 20, 30]\n"
     ]
    }
   ],
   "source": [
    "#3\n",
    "\n",
    "source=[10,20,30,40,50,60]\n",
    "size=len(source)\n",
    "def shiftright(source,k):\n",
    "    for i in range(k):\n",
    "        for j in range(size-1,-1,-1):\n",
    "            source[j]=source[j-1]\n",
    "        source[0]=0\n",
    "k=3\n",
    "shiftright(source,k)\n",
    "print(source)"
   ]
  },
  {
   "cell_type": "code",
   "execution_count": 27,
   "id": "0ddc972f",
   "metadata": {},
   "outputs": [
    {
     "name": "stdout",
     "output_type": "stream",
     "text": [
      "[30, 40, 50, 10, 20, 60]\n"
     ]
    }
   ],
   "source": [
    "#4\n",
    "\n",
    "source=[10,20,30,40,50,60]\n",
    "size=len(source)-1\n",
    "def rotateright(source,k):\n",
    "    \n",
    "    for i in range(k):\n",
    "            last = source[size-1]\n",
    "            for j in range(size-1,-1,-1):\n",
    "                source[j] = source[j-1]\n",
    "            source[0] = last\n",
    "            \n",
    "k=3\n",
    "rotateright(source,k)\n",
    "print(source)"
   ]
  },
  {
   "cell_type": "code",
   "execution_count": 24,
   "id": "e5c186e1",
   "metadata": {},
   "outputs": [
    {
     "name": "stdout",
     "output_type": "stream",
     "text": [
      "[10, 20, 40, 50, 0, 0, 0]\n"
     ]
    }
   ],
   "source": [
    "#5\n",
    "\n",
    "source=[10,20,30,40,50,0,0]\n",
    "\n",
    "def remove(source,size,idx):\n",
    "    \n",
    "    source_idx = len(source)\n",
    "    new = source_idx * [0]\n",
    "    x = 0\n",
    "    \n",
    "    for i in range(size):\n",
    "        if i == idx:\n",
    "            continue\n",
    "        else:\n",
    "            new[x] = source[i]\n",
    "            x += 1            \n",
    "    source = new\n",
    "    \n",
    "    print(source)\n",
    "\n",
    "remove(source,5,2)"
   ]
  },
  {
   "cell_type": "code",
   "execution_count": 25,
   "id": "69ded6e2",
   "metadata": {},
   "outputs": [
    {
     "name": "stdout",
     "output_type": "stream",
     "text": [
      "[10, 30, 50, 0, 0, 0, 0, 0, 0]\n"
     ]
    }
   ],
   "source": [
    "#6\n",
    "\n",
    "source = [10, 2, 30, 2, 50, 2, 2, 0, 0]\n",
    "\n",
    "def removeAll(source, size, element):\n",
    "    s_idx = len(source)\n",
    "    new = [0] * s_idx\n",
    "    x = 0\n",
    "    for i in source:\n",
    "        if i == element:\n",
    "            continue\n",
    "        else:\n",
    "            new[x] = i\n",
    "        x += 1\n",
    "        if x >= size:\n",
    "            break\n",
    "    source = new\n",
    "    print(source)\n",
    "\n",
    "removeAll(source, 7, 2)"
   ]
  },
  {
   "cell_type": "code",
   "execution_count": 29,
   "id": "88723ac2",
   "metadata": {},
   "outputs": [
    {
     "name": "stdout",
     "output_type": "stream",
     "text": [
      "False\n"
     ]
    }
   ],
   "source": [
    "#7\n",
    "\n",
    "def SplittingArray(A):\n",
    "    zero_list = [0]\n",
    "    empty_list = []\n",
    "    A_lentgh = len(A)\n",
    "    logic = None\n",
    "    for i in range(A_lentgh):\n",
    "        if i == 0:\n",
    "            zero_list[i] = A[i]\n",
    "            empty_list = A[i+1:(A_lentgh)]\n",
    "            if sum(zero_list) == sum(empty_list):\n",
    "                logic = True\n",
    "                break\n",
    "            else:\n",
    "                zero_list = []\n",
    "                logic = False\n",
    "        else:\n",
    "            zero_list = A[0:i+1]\n",
    "            empty_list = A[i + 1:(A_lentgh)]\n",
    "            if sum(zero_list) == sum(empty_list):\n",
    "                logic = True\n",
    "                break\n",
    "            else:\n",
    "                logic = False\n",
    "    print(logic)\n",
    "\n",
    "A = [10, 3, 1, 2, 10]\n",
    "SplittingArray(A)"
   ]
  },
  {
   "cell_type": "code",
   "execution_count": 5,
   "id": "6191abf9",
   "metadata": {},
   "outputs": [
    {
     "name": "stdout",
     "output_type": "stream",
     "text": [
      "Please input a number: n= 2\n",
      "[0, 1, 2, 1]\n"
     ]
    }
   ],
   "source": [
    "#8\n",
    "\n",
    "def arraySeries(n):\n",
    "    sq = n*n\n",
    "    new_a = [0]*sq\n",
    "\n",
    "    x = 1\n",
    "    while x <= n:\n",
    "        y = 1\n",
    "        while y <= x:\n",
    "            new_a[(x*n)-y] = y\n",
    "\n",
    "            y += 1\n",
    "        x += 1\n",
    "    return new_a\n",
    "\n",
    "\n",
    "n = int(input(\"Please input a number: n= \"))\n",
    "print(arraySeries(n))"
   ]
  },
  {
   "cell_type": "code",
   "execution_count": 18,
   "id": "ce876fd8",
   "metadata": {},
   "outputs": [
    {
     "name": "stdout",
     "output_type": "stream",
     "text": [
      "4\n"
     ]
    }
   ],
   "source": [
    "#9\n",
    "\n",
    "new_ar = [1, 2, 2, 3, 4, 4, 4]\n",
    "\n",
    "def MaxBunchCount(new_ar):\n",
    "   \n",
    "    sum_list = []\n",
    "    first = new_ar[0]\n",
    "    count = 0\n",
    "    for values in new_array:\n",
    "        if values == first:\n",
    "            count += 1\n",
    "        else:\n",
    "            first = values\n",
    "            count = 1\n",
    "        sum_list.append(count)\n",
    "        \n",
    "    print(max(sum_list))\n",
    "\n",
    "MaxBunchCount(new_ar)"
   ]
  },
  {
   "cell_type": "code",
   "execution_count": 9,
   "id": "c8a6e2bb",
   "metadata": {},
   "outputs": [
    {
     "name": "stdout",
     "output_type": "stream",
     "text": [
      "True\n"
     ]
    }
   ],
   "source": [
    "#10\n",
    "\n",
    "new_arr = [4,5,6,6,4,3,6,4]\n",
    "\n",
    "def repetition(new_array):\n",
    "    new = []\n",
    "    dic = {x: new_arr.count(x) for x in new_arr}\n",
    "    for keys, val in dic.items():\n",
    "        if val > 1:\n",
    "            new.append(val)\n",
    "    if len(new) == len(set(new)):\n",
    "        print(\"False\")\n",
    "    else:\n",
    "        print(\"True\")\n",
    "\n",
    "repetition(new_arr)"
   ]
  },
  {
   "cell_type": "code",
   "execution_count": null,
   "id": "8c06d0f9",
   "metadata": {},
   "outputs": [],
   "source": []
  }
 ],
 "metadata": {
  "kernelspec": {
   "display_name": "Python 3 (ipykernel)",
   "language": "python",
   "name": "python3"
  },
  "language_info": {
   "codemirror_mode": {
    "name": "ipython",
    "version": 3
   },
   "file_extension": ".py",
   "mimetype": "text/x-python",
   "name": "python",
   "nbconvert_exporter": "python",
   "pygments_lexer": "ipython3",
   "version": "3.9.12"
  }
 },
 "nbformat": 4,
 "nbformat_minor": 5
}
