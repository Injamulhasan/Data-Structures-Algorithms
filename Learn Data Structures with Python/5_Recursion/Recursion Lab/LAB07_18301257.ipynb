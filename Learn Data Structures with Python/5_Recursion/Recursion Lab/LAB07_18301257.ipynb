{
  "nbformat": 4,
  "nbformat_minor": 0,
  "metadata": {
    "colab": {
      "name": "LAB07_18301257.ipynb",
      "provenance": [],
      "collapsed_sections": []
    },
    "kernelspec": {
      "name": "python3",
      "display_name": "Python 3"
    },
    "language_info": {
      "name": "python"
    }
  },
  "cells": [
    {
      "cell_type": "code",
      "execution_count": null,
      "metadata": {
        "id": "Ok-JaY3igokr",
        "colab": {
          "base_uri": "https://localhost:8080/"
        },
        "outputId": "538985c1-33c9-42f0-d243-c4b182900ccc"
      },
      "outputs": [
        {
          "output_type": "stream",
          "name": "stdout",
          "text": [
            "720\n"
          ]
        }
      ],
      "source": [
        "# Task 1 \n",
        "# a\n",
        "\n",
        "def facto(n):\n",
        "    if n == 1 :\n",
        "        return 1\n",
        "    else:\n",
        "        return n * facto(n-1)\n",
        "\n",
        "\n",
        "print(facto(6))"
      ]
    },
    {
      "cell_type": "code",
      "source": [
        "# b\n",
        "\n",
        "def fibonacci(n):\n",
        "    if n == 0:\n",
        "        return 0\n",
        "    elif n == 1:\n",
        "        return 1\n",
        "    else:\n",
        "        return fibonacci(n-1) + fibonacci(n-2)\n",
        "\n",
        "\n",
        "fib = fibonacci(4)\n",
        "print(fib)"
      ],
      "metadata": {
        "colab": {
          "base_uri": "https://localhost:8080/"
        },
        "id": "Tre618nG2WfN",
        "outputId": "5d26a070-adb9-40ca-de72-958eb16f9e92"
      },
      "execution_count": null,
      "outputs": [
        {
          "output_type": "stream",
          "name": "stdout",
          "text": [
            "3\n"
          ]
        }
      ]
    },
    {
      "cell_type": "code",
      "source": [
        "# c\n",
        "\n",
        "def pA(arr, i):\n",
        "    if i == len(arr):\n",
        "        return\n",
        "    else:\n",
        "        print(arr[i])\n",
        "        pA(arr, i+1)\n",
        "\n",
        "\n",
        "arr = [1, 2, 3, 4, 5, 7]\n",
        "pA(arr,0)"
      ],
      "metadata": {
        "colab": {
          "base_uri": "https://localhost:8080/"
        },
        "id": "CWpdMj4N2Wt1",
        "outputId": "98fbd966-9e6f-4df2-d59b-ac1b035d15c7"
      },
      "execution_count": 4,
      "outputs": [
        {
          "output_type": "stream",
          "name": "stdout",
          "text": [
            "1\n",
            "2\n",
            "3\n",
            "4\n",
            "5\n",
            "7\n"
          ]
        }
      ]
    },
    {
      "cell_type": "code",
      "source": [
        "# d\n",
        "\n",
        "def pN(base, n):\n",
        "    if n == 0:\n",
        "        return 1\n",
        "    else:\n",
        "        return base*pN(base, n-1)\n",
        "        \n",
        "p = pN(3, 2)\n",
        "print(p)"
      ],
      "metadata": {
        "colab": {
          "base_uri": "https://localhost:8080/"
        },
        "id": "dX5eFKRs2WwV",
        "outputId": "2d39d772-1c96-452c-e349-b70f059d8b16"
      },
      "execution_count": 5,
      "outputs": [
        {
          "output_type": "stream",
          "name": "stdout",
          "text": [
            "9\n"
          ]
        }
      ]
    },
    {
      "cell_type": "code",
      "source": [
        "# task 2  \n",
        "# a\n",
        "\n",
        "def dtob(n):\n",
        "    if n == 0:\n",
        "        return 0\n",
        "    else:\n",
        "        return dtob(n//2)*10 + (n % 2)\n",
        "\n",
        "\n",
        "d = dtob(11)\n",
        "print(d)"
      ],
      "metadata": {
        "colab": {
          "base_uri": "https://localhost:8080/"
        },
        "id": "j_eFwdNL2WzR",
        "outputId": "33b55578-af1f-44b6-e158-43230732c255"
      },
      "execution_count": 6,
      "outputs": [
        {
          "output_type": "stream",
          "name": "stdout",
          "text": [
            "1011\n"
          ]
        }
      ]
    },
    {
      "cell_type": "code",
      "source": [
        "# b\n",
        "\n",
        "class Node:\n",
        "    def __init__(self, val):\n",
        "        self.val = val\n",
        "        self.next = None\n",
        "\n",
        "\n",
        "class llist:\n",
        "    def __init__(self, a):\n",
        "        self.head = None\n",
        "        tail = None\n",
        "        for i in array:\n",
        "            new = Node(i)\n",
        "            if self.head == None:\n",
        "                self.head = new\n",
        "                tail = new\n",
        "            else:\n",
        "                tail.next = new\n",
        "                tail = new\n",
        "\n",
        "    def sumation(self):\n",
        "        return self.add(self.head)\n",
        "\n",
        "    def add(self, head):\n",
        "        if head == None:\n",
        "            return 0\n",
        "        else:\n",
        "            return head.val + self.add(head.next)\n",
        "\n",
        "\n",
        "\n",
        "a = [4, 5, 6, 7 ,8 ,9]\n",
        "l = llist(a)\n",
        "print(l.sumation())"
      ],
      "metadata": {
        "colab": {
          "base_uri": "https://localhost:8080/"
        },
        "id": "Q8zq1KGZ3zI9",
        "outputId": "d86d669f-c995-4504-f310-8bd4997ea03d"
      },
      "execution_count": 21,
      "outputs": [
        {
          "output_type": "stream",
          "name": "stdout",
          "text": [
            "28\n"
          ]
        }
      ]
    },
    {
      "cell_type": "code",
      "source": [
        "# c\n",
        "\n",
        "class Node:\n",
        "    def __init__(self, val):\n",
        "        self.val = val\n",
        "        self.next = None\n",
        "\n",
        "\n",
        "class llist:\n",
        "    def __init__(self, array):\n",
        "        self.head = None\n",
        "        tail = None\n",
        "        for i in array:\n",
        "            new = Node(i)\n",
        "            if self.head == None:\n",
        "                self.head = new\n",
        "                tail = new\n",
        "            else:\n",
        "                tail.next = new\n",
        "                tail = new\n",
        "\n",
        "    def reverseOder(self, head):\n",
        "        if head.next == None:\n",
        "            print(head.val)\n",
        "        else:\n",
        "            self.reverseOder(head.next)\n",
        "            print(head.val)\n",
        "\n",
        "    def Rprint(self):\n",
        "        return self.reverseOder(self.head)\n",
        "\n",
        "\n",
        "arr = [10,20,30,40]\n",
        "l = llist(arr)\n",
        "l.Rprint()"
      ],
      "metadata": {
        "colab": {
          "base_uri": "https://localhost:8080/"
        },
        "id": "826lfF8z3zY_",
        "outputId": "aae40235-d740-4873-d314-d7a3f7703e57"
      },
      "execution_count": 24,
      "outputs": [
        {
          "output_type": "stream",
          "name": "stdout",
          "text": [
            "40\n",
            "30\n",
            "20\n",
            "10\n"
          ]
        }
      ]
    },
    {
      "cell_type": "code",
      "source": [
        "# task 3  \n",
        "\n",
        "def hocBuilder(height):\n",
        "    if height == 0:\n",
        "        return 0\n",
        "    elif height == 1:\n",
        "        return 8\n",
        "    else:\n",
        "        return 5+hocBuilder(height-1)\n",
        "\n",
        "\n",
        "height = 5\n",
        "print(hocBuilder(height))"
      ],
      "metadata": {
        "colab": {
          "base_uri": "https://localhost:8080/"
        },
        "id": "8ckl21Yg4m8y",
        "outputId": "1bbc1d91-bbd9-4637-e931-576dbdeb965c"
      },
      "execution_count": 27,
      "outputs": [
        {
          "output_type": "stream",
          "name": "stdout",
          "text": [
            "28\n"
          ]
        }
      ]
    },
    {
      "cell_type": "code",
      "source": [
        "# task 4 \n",
        "# a\n",
        "\n",
        "def ptrn(x):\n",
        "    if x == 0:\n",
        "        return 0\n",
        "    else:\n",
        "        ptrn(x-1)\n",
        "        print(x, end=\"\")\n",
        "\n",
        "\n",
        "def printP(x):\n",
        "    if x == 0:\n",
        "        return 0\n",
        "    else:\n",
        "        printP(x-1)\n",
        "    ptrn(x)\n",
        "    print()\n",
        "\n",
        "\n",
        "x = 5\n",
        "\n",
        "printP(x)"
      ],
      "metadata": {
        "colab": {
          "base_uri": "https://localhost:8080/"
        },
        "id": "Tmue4CUF5Gtj",
        "outputId": "030a62bd-9c44-47fd-cb62-a68c4275785b"
      },
      "execution_count": 29,
      "outputs": [
        {
          "output_type": "stream",
          "name": "stdout",
          "text": [
            "1\n",
            "12\n",
            "123\n",
            "1234\n",
            "12345\n"
          ]
        }
      ]
    },
    {
      "cell_type": "code",
      "source": [
        "# b\n",
        "\n",
        "def pTRN(n):\n",
        "    if n == 0:\n",
        "        return 0\n",
        "    else:\n",
        "        pTRN(n-1)\n",
        "        print(n, end=\"\")\n",
        "\n",
        "\n",
        "def reverseP(n):\n",
        "    if n == 0:\n",
        "        return 0\n",
        "    else:\n",
        "        reverseP(n - 1)\n",
        "        print(\"\", end=\" \")\n",
        "\n",
        "def printP(n, m):\n",
        "    if n == 0:\n",
        "        return 0\n",
        "    else:\n",
        "        reverseP(n-1)\n",
        "        pTRN((m)-n+1)\n",
        "        print()\n",
        "        printP(n-1, m)\n",
        "\n",
        "printP(5,5)"
      ],
      "metadata": {
        "colab": {
          "base_uri": "https://localhost:8080/"
        },
        "id": "3gBzQtol5Ga7",
        "outputId": "8adcd053-0cde-4460-f3a2-79fd95e97813"
      },
      "execution_count": 36,
      "outputs": [
        {
          "output_type": "stream",
          "name": "stdout",
          "text": [
            "    1\n",
            "   12\n",
            "  123\n",
            " 1234\n",
            "12345\n"
          ]
        }
      ]
    },
    {
      "cell_type": "code",
      "source": [
        "# task 5\n",
        "\n",
        "class FinaIQ:\n",
        "\n",
        "    def print(self, a, i):\n",
        "        if(i< len(a)):\n",
        "            p = self.calculateProfit(a[i])\n",
        "            print(str(i+1),\"Investment:\",a[i],\"; Profit:\", p)\n",
        "            self.print(a,i+1)\n",
        "\n",
        "    def calculateProfit(self, invest):\n",
        "        if invest <= 25000:\n",
        "            return 0.0\n",
        "        elif invest > 25000 and invest <= 100000:\n",
        "            return 45 + self.calculateProfit(invest-1000)\n",
        "        elif invest > 100000:\n",
        "            return 80 + self.calculateProfit(invest-1000)\n",
        "        else:\n",
        "            return 0\n",
        "\n",
        "#tester\n",
        "a = [25000, 100000, 250000, 350000]\n",
        "f = FinaIQ()\n",
        "f.print(a, 0)\n"
      ],
      "metadata": {
        "colab": {
          "base_uri": "https://localhost:8080/"
        },
        "id": "Js-UfHkz5WIL",
        "outputId": "718ceef2-5a6b-487c-d0b1-ec5e8ed8c0df"
      },
      "execution_count": 47,
      "outputs": [
        {
          "output_type": "stream",
          "name": "stdout",
          "text": [
            "1 Investment: 25000 ; Profit: 0.0\n",
            "2 Investment: 100000 ; Profit: 3375.0\n",
            "3 Investment: 250000 ; Profit: 15375.0\n",
            "4 Investment: 350000 ; Profit: 23375.0\n"
          ]
        }
      ]
    }
  ]
}