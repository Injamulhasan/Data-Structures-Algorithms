{
 "cells": [
  {
   "cell_type": "code",
   "execution_count": 1,
   "id": "c6a27c22",
   "metadata": {},
   "outputs": [],
   "source": [
    "#task 1b\n",
    "input_file = open(\"input1b_1.txt\", \"r\")\n",
    "output = open(\"output1b_1.txt\", mode = 'w')\n",
    "arr = input_file.readline().strip().split()\n",
    "\n",
    "\n",
    "for i in range(len(arr)):\n",
    "    arr[i] = int(arr[i])\n",
    "\n",
    "N, S = arr[0], arr[1]\n",
    "\n",
    "elements = input_file.readline().strip().split()\n",
    "\n",
    "for i in range(N):\n",
    "    elements[i] = int(elements[i])\n",
    "\n",
    "dict1 = {}\n",
    "\n",
    "found = False\n",
    "\n",
    "for i in range(N):\n",
    "    try:\n",
    "        dict1[S - elements[i]]\n",
    "        found = True\n",
    "        break\n",
    "        \n",
    "    except:\n",
    "        dict1[elements[i]] = i + 1\n",
    "        \n",
    "\n",
    "if found == True:\n",
    "    print(f\"{dict1[S-elements[i]]} {i+1}\", file = output)\n",
    "else:\n",
    "    print(f\"IMPOSSIBLE\", file = output)\n",
    "\n",
    "output.close()"
   ]
  },
  {
   "cell_type": "code",
   "execution_count": null,
   "id": "3167e83f",
   "metadata": {},
   "outputs": [],
   "source": []
  }
 ],
 "metadata": {
  "kernelspec": {
   "display_name": "Python 3 (ipykernel)",
   "language": "python",
   "name": "python3"
  },
  "language_info": {
   "codemirror_mode": {
    "name": "ipython",
    "version": 3
   },
   "file_extension": ".py",
   "mimetype": "text/x-python",
   "name": "python",
   "nbconvert_exporter": "python",
   "pygments_lexer": "ipython3",
   "version": "3.9.13"
  }
 },
 "nbformat": 4,
 "nbformat_minor": 5
}
