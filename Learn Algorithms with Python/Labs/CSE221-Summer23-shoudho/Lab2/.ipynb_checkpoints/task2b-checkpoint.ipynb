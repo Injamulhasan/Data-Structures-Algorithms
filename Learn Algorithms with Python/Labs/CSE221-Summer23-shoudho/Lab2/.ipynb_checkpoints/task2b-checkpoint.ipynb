{
 "cells": [
  {
   "cell_type": "code",
   "execution_count": 1,
   "id": "97652e43",
   "metadata": {},
   "outputs": [],
   "source": [
    "# task 2b\n",
    "input_file = open(\"input2b_1.txt\", \"r\")\n",
    "output = open(\"output2b_1.txt\", mode = 'w')\n",
    "N = int(input_file.readline().strip())\n",
    "\n",
    "\n",
    "list1 = input_file.readline().strip().split()\n",
    "\n",
    "for i in range(N):\n",
    "    list1[i] = int(list1[i])\n",
    "\n",
    "M = int(input_file.readline().strip())\n",
    "\n",
    "list2 = input_file.readline().strip().split()\n",
    "\n",
    "for i in range(M):\n",
    "    list2[i] = int(list2[i])\n",
    "\n",
    "\n",
    "new_arr = [0] * (N + M)\n",
    "\n",
    "i = 0\n",
    "j = 0\n",
    "\n",
    "index = 0\n",
    "while i < N and j < M:\n",
    "    if list1[i] < list2[j]:\n",
    "        new_arr[index] = list1[i]\n",
    "        i += 1\n",
    "    else:\n",
    "        new_arr[index] = list2[j]\n",
    "        j += 1\n",
    "\n",
    "    index += 1\n",
    "\n",
    "\n",
    "if i < N:\n",
    "    for k in range(i, N):\n",
    "        new_arr[index] = list1[k]\n",
    "        index += 1\n",
    "elif j < M:\n",
    "    for k in range(j, M):\n",
    "        new_arr[index] = list2[k]\n",
    "        index += 1\n",
    "\n",
    "for x in new_arr:\n",
    "    output.write(str(x) + \" \")\n",
    "\n",
    "output.close()"
   ]
  },
  {
   "cell_type": "code",
   "execution_count": null,
   "id": "083f36f8",
   "metadata": {},
   "outputs": [],
   "source": []
  }
 ],
 "metadata": {
  "kernelspec": {
   "display_name": "Python 3 (ipykernel)",
   "language": "python",
   "name": "python3"
  },
  "language_info": {
   "codemirror_mode": {
    "name": "ipython",
    "version": 3
   },
   "file_extension": ".py",
   "mimetype": "text/x-python",
   "name": "python",
   "nbconvert_exporter": "python",
   "pygments_lexer": "ipython3",
   "version": "3.9.13"
  }
 },
 "nbformat": 4,
 "nbformat_minor": 5
}
