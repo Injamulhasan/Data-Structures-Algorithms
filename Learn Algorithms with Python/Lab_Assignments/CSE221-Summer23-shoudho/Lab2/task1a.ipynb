{
 "cells": [
  {
   "cell_type": "code",
   "execution_count": 1,
   "id": "b8df0358",
   "metadata": {},
   "outputs": [],
   "source": [
    "# task 1a\n",
    "input_file = open(\"input1a_1.txt\", \"r\")\n",
    "output = open(\"output1a_1.txt\", mode = 'w')\n",
    "arr = input_file.readline().strip().split()\n",
    "\n",
    "for i in range(len(arr)):\n",
    "    arr[i] = int(arr[i])\n",
    "\n",
    "N, S = arr[0], arr[1]\n",
    "\n",
    "elements = input_file.readline().strip().split()\n",
    "\n",
    "\n",
    "for i in range(N):\n",
    "    elements[i] = int(elements[i])\n",
    "\n",
    "found = False\n",
    "for i in range(len(elements)):\n",
    "    if found == True:\n",
    "        break\n",
    "    for j in range(i+1, len(elements)):\n",
    "        if elements[i] + elements[j] == S:\n",
    "            index1 = i + 1\n",
    "            index2 = j + 1\n",
    "            found = True\n",
    "            break\n",
    "\n",
    "if found == True:\n",
    "    print(f\"{index1} {index2}\", file = output)\n",
    "else:\n",
    "    print(f\"IMPOSSIBLE\", file = output)\n",
    "\n",
    "output.close()"
   ]
  },
  {
   "cell_type": "code",
   "execution_count": null,
   "id": "462f3605",
   "metadata": {},
   "outputs": [],
   "source": []
  }
 ],
 "metadata": {
  "kernelspec": {
   "display_name": "Python 3 (ipykernel)",
   "language": "python",
   "name": "python3"
  },
  "language_info": {
   "codemirror_mode": {
    "name": "ipython",
    "version": 3
   },
   "file_extension": ".py",
   "mimetype": "text/x-python",
   "name": "python",
   "nbconvert_exporter": "python",
   "pygments_lexer": "ipython3",
   "version": "3.9.13"
  }
 },
 "nbformat": 4,
 "nbformat_minor": 5
}
