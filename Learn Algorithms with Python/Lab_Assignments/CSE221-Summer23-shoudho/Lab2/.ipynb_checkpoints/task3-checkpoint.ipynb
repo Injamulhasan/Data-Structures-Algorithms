{
 "cells": [
  {
   "cell_type": "code",
   "execution_count": 1,
   "id": "44a4f566",
   "metadata": {},
   "outputs": [],
   "source": [
    "# Task 3\n",
    "def merge(a, b):\n",
    "    c = []\n",
    "    i = 0\n",
    "    j = 0\n",
    "    while i < len(a) and j < len(b):\n",
    "        if a[i] < b[j]:\n",
    "            c += [a[i]]\n",
    "            i += 1\n",
    "\n",
    "        else:\n",
    "            c += [b[j]]\n",
    "            j += 1\n",
    "\n",
    "    if i < len(a):\n",
    "        c += a[i:]\n",
    "    if j < len(b):\n",
    "        c += b[j:]\n",
    "    return c\n",
    "\n",
    "\n",
    "def mergeSort(arr):\n",
    "    if len(arr) <= 1:\n",
    "        return arr\n",
    "\n",
    "    else:\n",
    "        mid = len(arr)//2\n",
    "        a1 = mergeSort(arr[:mid])\n",
    "        a2 = mergeSort(arr[mid:])\n",
    "        return merge(a1, a2)\n",
    "\n",
    "f = open('input3_1.txt', 'r')\n",
    "n = int(f.readline().strip())\n",
    "arr1 = [int(x) for x in f.readline().strip().split()]\n",
    "f.close()\n",
    "\n",
    "\n",
    "arr_sorted = mergeSort(arr1)\n",
    "\n",
    "output = open('output3_1.txt', 'w')\n",
    "output.write(' '.join(str(x) for x in arr_sorted))\n",
    "output.close()"
   ]
  },
  {
   "cell_type": "code",
   "execution_count": null,
   "id": "fcccdb91",
   "metadata": {},
   "outputs": [],
   "source": []
  }
 ],
 "metadata": {
  "kernelspec": {
   "display_name": "Python 3 (ipykernel)",
   "language": "python",
   "name": "python3"
  },
  "language_info": {
   "codemirror_mode": {
    "name": "ipython",
    "version": 3
   },
   "file_extension": ".py",
   "mimetype": "text/x-python",
   "name": "python",
   "nbconvert_exporter": "python",
   "pygments_lexer": "ipython3",
   "version": "3.9.13"
  }
 },
 "nbformat": 4,
 "nbformat_minor": 5
}
