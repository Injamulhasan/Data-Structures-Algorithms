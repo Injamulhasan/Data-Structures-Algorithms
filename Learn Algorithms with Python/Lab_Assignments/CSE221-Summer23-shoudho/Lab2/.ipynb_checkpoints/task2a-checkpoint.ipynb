{
 "cells": [
  {
   "cell_type": "code",
   "execution_count": 1,
   "id": "8413d88a",
   "metadata": {},
   "outputs": [],
   "source": [
    "# Task 2a\n",
    "def merge(a, b):\n",
    "    c = []\n",
    "    i = 0\n",
    "    j = 0\n",
    "    while i < len(a) and j < len(b):\n",
    "        if a[i] < b[j]:\n",
    "            c += [a[i]]\n",
    "            i += 1\n",
    "        else:\n",
    "            c += [b[j]]\n",
    "            j += 1\n",
    "    if i < len(a):\n",
    "        c += a[i:]\n",
    "    if j < len(b):\n",
    "        c += b[j:]\n",
    "    return c\n",
    "\n",
    "\n",
    "def mergeSort(arr):\n",
    "    if len(arr) <= 1:\n",
    "        return arr\n",
    "    else:\n",
    "        mid = len(arr)//2\n",
    "        a1 = mergeSort(arr[:mid])\n",
    "        a2 = mergeSort(arr[mid:])\n",
    "        return merge(a1, a2)\n",
    "\n",
    "input_file = open(\"input2a_1.txt\", \"r\")\n",
    "\n",
    "N = int(input_file.readline().strip())\n",
    "\n",
    "\n",
    "list1 = input_file.readline().strip().split()\n",
    "\n",
    "for i in range(N):\n",
    "    list1[i] = int(list1[i])\n",
    "\n",
    "M = int(input_file.readline().strip())\n",
    "\n",
    "list2 = input_file.readline().strip().split()\n",
    "\n",
    "for i in range(M):\n",
    "    list2[i] = int(list2[i])\n",
    "\n",
    "new_arr = list1 + list2\n",
    "\n",
    "arr_sorted = mergeSort(new_arr)\n",
    "\n",
    "output = open('output2a_1.txt', 'w')\n",
    "output.write(' '.join(str(x) for x in arr_sorted))\n",
    "output.close()"
   ]
  },
  {
   "cell_type": "code",
   "execution_count": null,
   "id": "72c314ec",
   "metadata": {},
   "outputs": [],
   "source": []
  }
 ],
 "metadata": {
  "kernelspec": {
   "display_name": "Python 3 (ipykernel)",
   "language": "python",
   "name": "python3"
  },
  "language_info": {
   "codemirror_mode": {
    "name": "ipython",
    "version": 3
   },
   "file_extension": ".py",
   "mimetype": "text/x-python",
   "name": "python",
   "nbconvert_exporter": "python",
   "pygments_lexer": "ipython3",
   "version": "3.9.13"
  }
 },
 "nbformat": 4,
 "nbformat_minor": 5
}
